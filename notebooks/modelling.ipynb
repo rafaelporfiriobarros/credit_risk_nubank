{
 "cells": [
  {
   "cell_type": "markdown",
   "metadata": {},
   "source": [
    "# Análise de Risco de Crédito - NuBank"
   ]
  },
  {
   "cell_type": "markdown",
   "metadata": {},
   "source": [
    "Risco de crédito está associado à possibilidade de um cliente não cumprir com as obrigações contratuais, como hipotecas, dívidas de cartão de crédito e outros tipos de empréstimos.\n",
    "\n",
    "Minimizar o risco de inadimplência é uma grande preocupação para instituições financeiras. Por esse motivo, bancos comerciais e de investimento, fundos de capital de risco, empresas de gestão de ativos e seguradoras, para citar alguns, estão cada vez mais contando com a tecnologia para prever quais clientes são mais propensos a não honrar com as suas dívidas.\n",
    "\n",
    "Modelos de Machine Learning têm ajudado essas empresas a melhorar a precisão de suas análises de risco de crédito, fornecendo um método científico para identificar devedores em potencial com antecedência.\n",
    "\n",
    "Neste projeto, construiremos um modelo para prever o risco de inadimplência do cliente para o Nubank, uma das maiores e importantes Fintechs brasileira."
   ]
  },
  {
   "cell_type": "markdown",
   "metadata": {},
   "source": [
    "## Modelagem "
   ]
  },
  {
   "cell_type": "markdown",
   "metadata": {},
   "source": [
    "### Objetivo\n",
    "\n",
    "- Prever o risco de inadimplência de clientes usando modelos de aprendizado de máquina, incluindo Regressão Logística,XGBoost, LightGBM e CatBoost.\n",
    "\n",
    "- Problema: Identificar a possibilidade de clientes não cumprirem obrigações contratuais, como empréstimos e pagamentos."
   ]
  },
  {
   "cell_type": "markdown",
   "metadata": {},
   "source": [
    "### Importação das Bibliotecas"
   ]
  },
  {
   "cell_type": "code",
   "execution_count": 22,
   "metadata": {},
   "outputs": [],
   "source": [
    "# Manipulação e visualização dos dados\n",
    "import pandas as pd\n",
    "import numpy as np\n",
    "import matplotlib.pyplot as plt\n",
    "import seaborn as sns\n",
    "\n",
    "# Machine Learning\n",
    "from sklearn.model_selection import train_test_split\n",
    "from sklearn.pipeline import Pipeline\n",
    "from sklearn.compose import ColumnTransformer\n",
    "from sklearn.preprocessing import OrdinalEncoder, StandardScaler\n",
    "from category_encoders import TargetEncoder\n",
    "from sklearn.impute import SimpleImputer\n",
    "from sklearn.metrics import classification_report, roc_auc_score, confusion_matrix, roc_curve\n",
    "from sklearn.linear_model import LogisticRegression\n",
    "from sklearn.svm import LinearSVC, SVC\n",
    "from sklearn.neighbors import KNeighborsClassifier\n",
    "from sklearn.ensemble import RandomForestClassifier\n",
    "from xgboost import XGBClassifier \n",
    "\n",
    "# filter warnings\n",
    "import warnings\n",
    "warnings.filterwarnings('ignore')\n",
    "\n",
    "\n"
   ]
  },
  {
   "cell_type": "markdown",
   "metadata": {},
   "source": [
    "### Importação do Dataset já transformado no EDA"
   ]
  },
  {
   "cell_type": "code",
   "execution_count": 23,
   "metadata": {},
   "outputs": [],
   "source": [
    "df = pd.read_csv('data/acquisition_train.csv')"
   ]
  },
  {
   "cell_type": "markdown",
   "metadata": {},
   "source": [
    "### Visualização dos Dados"
   ]
  },
  {
   "cell_type": "code",
   "execution_count": 24,
   "metadata": {},
   "outputs": [
    {
     "data": {
      "text/html": [
       "<div>\n",
       "<style scoped>\n",
       "    .dataframe tbody tr th:only-of-type {\n",
       "        vertical-align: middle;\n",
       "    }\n",
       "\n",
       "    .dataframe tbody tr th {\n",
       "        vertical-align: top;\n",
       "    }\n",
       "\n",
       "    .dataframe thead th {\n",
       "        text-align: right;\n",
       "    }\n",
       "</style>\n",
       "<table border=\"1\" class=\"dataframe\">\n",
       "  <thead>\n",
       "    <tr style=\"text-align: right;\">\n",
       "      <th></th>\n",
       "      <th>ids</th>\n",
       "      <th>target_default</th>\n",
       "      <th>score_1</th>\n",
       "      <th>score_2</th>\n",
       "      <th>score_3</th>\n",
       "      <th>score_4</th>\n",
       "      <th>score_5</th>\n",
       "      <th>score_6</th>\n",
       "      <th>risk_rate</th>\n",
       "      <th>last_amount_borrowed</th>\n",
       "      <th>...</th>\n",
       "      <th>external_data_provider_fraud_score</th>\n",
       "      <th>lat_lon</th>\n",
       "      <th>marketing_channel</th>\n",
       "      <th>profile_phone_number</th>\n",
       "      <th>reported_income</th>\n",
       "      <th>shipping_state</th>\n",
       "      <th>shipping_zip_code</th>\n",
       "      <th>profile_tags</th>\n",
       "      <th>user_agent</th>\n",
       "      <th>target_fraud</th>\n",
       "    </tr>\n",
       "  </thead>\n",
       "  <tbody>\n",
       "    <tr>\n",
       "      <th>0</th>\n",
       "      <td>343b7e7b-2cf8-e508-b8fd-0a0285af30aa</td>\n",
       "      <td>False</td>\n",
       "      <td>1Rk8w4Ucd5yR3KcqZzLdow==</td>\n",
       "      <td>IOVu8au3ISbo6+zmfnYwMg==</td>\n",
       "      <td>350.0</td>\n",
       "      <td>101.800832</td>\n",
       "      <td>0.259555</td>\n",
       "      <td>108.427273</td>\n",
       "      <td>0.40</td>\n",
       "      <td>25033.92</td>\n",
       "      <td>...</td>\n",
       "      <td>645</td>\n",
       "      <td>(-29.151545708122246, -51.1386461804385)</td>\n",
       "      <td>Invite-email</td>\n",
       "      <td>514-9840782</td>\n",
       "      <td>57849.0</td>\n",
       "      <td>BR-MT</td>\n",
       "      <td>17528</td>\n",
       "      <td>{'tags': ['n19', 'n8']}</td>\n",
       "      <td>Mozilla/5.0 (Linux; Android 6.0.1; SGP771 Buil...</td>\n",
       "      <td>NaN</td>\n",
       "    </tr>\n",
       "    <tr>\n",
       "      <th>1</th>\n",
       "      <td>bc2c7502-bbad-0f8c-39c3-94e881967124</td>\n",
       "      <td>False</td>\n",
       "      <td>DGCQep2AE5QRkNCshIAlFQ==</td>\n",
       "      <td>SaamrHMo23l/3TwXOWgVzw==</td>\n",
       "      <td>370.0</td>\n",
       "      <td>97.062615</td>\n",
       "      <td>0.942655</td>\n",
       "      <td>92.002546</td>\n",
       "      <td>0.24</td>\n",
       "      <td>NaN</td>\n",
       "      <td>...</td>\n",
       "      <td>243</td>\n",
       "      <td>(-19.687710705798963, -47.94151536525154)</td>\n",
       "      <td>Radio-commercial</td>\n",
       "      <td>251-3659293</td>\n",
       "      <td>4902.0</td>\n",
       "      <td>BR-RS</td>\n",
       "      <td>40933</td>\n",
       "      <td>{'tags': ['n6', 'n7', 'nim']}</td>\n",
       "      <td>Mozilla/5.0 (Linux; Android 5.0.2; SAMSUNG SM-...</td>\n",
       "      <td>NaN</td>\n",
       "    </tr>\n",
       "  </tbody>\n",
       "</table>\n",
       "<p>2 rows × 43 columns</p>\n",
       "</div>"
      ],
      "text/plain": [
       "                                    ids target_default  \\\n",
       "0  343b7e7b-2cf8-e508-b8fd-0a0285af30aa          False   \n",
       "1  bc2c7502-bbad-0f8c-39c3-94e881967124          False   \n",
       "\n",
       "                    score_1                   score_2  score_3     score_4  \\\n",
       "0  1Rk8w4Ucd5yR3KcqZzLdow==  IOVu8au3ISbo6+zmfnYwMg==    350.0  101.800832   \n",
       "1  DGCQep2AE5QRkNCshIAlFQ==  SaamrHMo23l/3TwXOWgVzw==    370.0   97.062615   \n",
       "\n",
       "    score_5     score_6  risk_rate  last_amount_borrowed  ...  \\\n",
       "0  0.259555  108.427273       0.40              25033.92  ...   \n",
       "1  0.942655   92.002546       0.24                   NaN  ...   \n",
       "\n",
       "   external_data_provider_fraud_score  \\\n",
       "0                                 645   \n",
       "1                                 243   \n",
       "\n",
       "                                     lat_lon marketing_channel  \\\n",
       "0   (-29.151545708122246, -51.1386461804385)      Invite-email   \n",
       "1  (-19.687710705798963, -47.94151536525154)  Radio-commercial   \n",
       "\n",
       "   profile_phone_number reported_income shipping_state shipping_zip_code  \\\n",
       "0           514-9840782         57849.0          BR-MT             17528   \n",
       "1           251-3659293          4902.0          BR-RS             40933   \n",
       "\n",
       "                    profile_tags  \\\n",
       "0        {'tags': ['n19', 'n8']}   \n",
       "1  {'tags': ['n6', 'n7', 'nim']}   \n",
       "\n",
       "                                          user_agent target_fraud  \n",
       "0  Mozilla/5.0 (Linux; Android 6.0.1; SGP771 Buil...          NaN  \n",
       "1  Mozilla/5.0 (Linux; Android 5.0.2; SAMSUNG SM-...          NaN  \n",
       "\n",
       "[2 rows x 43 columns]"
      ]
     },
     "execution_count": 24,
     "metadata": {},
     "output_type": "execute_result"
    }
   ],
   "source": [
    "df.head(2)"
   ]
  },
  {
   "cell_type": "markdown",
   "metadata": {},
   "source": [
    "### Exclusão das Variáveis não significativas"
   ]
  },
  {
   "cell_type": "markdown",
   "metadata": {},
   "source": [
    "- Seguindo como base os processos feitos na Análise Exploratória de Dados - EDA, vamos excluir logo de início as variáveis não relevantes para o projeto."
   ]
  },
  {
   "cell_type": "code",
   "execution_count": 25,
   "metadata": {},
   "outputs": [],
   "source": [
    "# cópia do dataframe\n",
    "df2 = df.copy()"
   ]
  },
  {
   "cell_type": "code",
   "execution_count": 26,
   "metadata": {},
   "outputs": [],
   "source": [
    "exclude_columns = [\"ids\", \"score_1\", \"score_2\", \"score_4\", \"score_5\", \"score_6\",\"reason\", \"facebook_profile\", \"state\", \"zip\", \"channel\", \"job_name\", \"real_state\",\n",
    "                    \"email\", \"external_data_provider_first_name\", \"external_data_provider_email_seen_before\",\"lat_lon\", \"marketing_channel\",\n",
    "                    \"application_time_applied\", \"profile_phone_number\", \"application_time_in_funnel\",\"shipping_zip_code\", \"external_data_provider_fraud_score\",\n",
    "                    \"profile_tags\", \"user_agent\", \"target_fraud\"]\n",
    "\n",
    "df2.drop(labels = exclude_columns, axis=1, inplace=True)"
   ]
  },
  {
   "cell_type": "markdown",
   "metadata": {},
   "source": [
    "### Alteração da Variável credit_limit com valor 0"
   ]
  },
  {
   "cell_type": "markdown",
   "metadata": {},
   "source": [
    "- A variável **credit_limit** possui um valor mínimo de 0.000000, isso não existe em instituições financeiras, é obrigatório liberar um valor X de crédito para o cliente. Portanto, este valor será substituído por NaN."
   ]
  },
  {
   "cell_type": "code",
   "execution_count": 27,
   "metadata": {},
   "outputs": [],
   "source": [
    "df2['credit_limit'] = df2['credit_limit'].apply(lambda x: np.nan if x == 0 else x)"
   ]
  },
  {
   "cell_type": "markdown",
   "metadata": {},
   "source": [
    "### Alteração da Variável reported_income com Valor Inf"
   ]
  },
  {
   "cell_type": "markdown",
   "metadata": {},
   "source": [
    "- A variável **reported_income** possui um valor máximo descrito como inf(infinito), nesse caso, vamos alterar para o tipo NaN."
   ]
  },
  {
   "cell_type": "code",
   "execution_count": 28,
   "metadata": {},
   "outputs": [],
   "source": [
    "df2.replace([np.inf, -np.inf], np.nan, inplace=True)"
   ]
  },
  {
   "cell_type": "markdown",
   "metadata": {},
   "source": [
    "### Divisão dos dados em treino e teste"
   ]
  },
  {
   "cell_type": "markdown",
   "metadata": {},
   "source": [
    "- Antes de iniciar as transformações e pré-processamentos dos dados, é necessário dividir o dataset em treino e teste, mas porque?\n",
    "    - Porque precisamos evitar o \"Data Leakage\". Data Leakage ocorre quando informações do conjunto de dados de teste ou validação vazam para o conjunto de treinamento durante o pré-processamento ou modelagem, ou quando informaçõpes do target vazam para as features. Nessas situações, o que vai acontecer é que você vai ver um modelo muito bom, mas isso será ilusório, pois o seu modelo \"roubou\" para ter o resultado bom.\n",
    "\n",
    "- Referências sobre Data Leakage: \n",
    "    - https://www.linkedin.com/company/universidade-dos-dados/posts/?feedView=all\n",
    "    - https://www.casadocodigo.com.br/products/livro-escd\n",
    "    - https://estatsite.com.br/2020/12/12/data-leakage-o-erro-que-ate-os-grandes-cometem/\n"
   ]
  },
  {
   "cell_type": "code",
   "execution_count": 29,
   "metadata": {},
   "outputs": [],
   "source": [
    "# Dividindo os dados primeiro\n",
    "\n",
    "X = df2.drop(columns=['target_default'])\t\n",
    "y = df2['target_default'].copy()                                                                                                                                                                                                                                                                                    \n",
    "\n",
    "X_train, X_test, y_train, y_test = train_test_split(X, y, test_size=0.2, random_state=42)"
   ]
  },
  {
   "cell_type": "markdown",
   "metadata": {},
   "source": [
    "### Feature Engineering"
   ]
  },
  {
   "cell_type": "markdown",
   "metadata": {},
   "source": [
    "Seguindo o que foi feito com as \"Perguntas de Negócio utilizando o Score 3\" na Análise Exploratória no eda.ipynb, que é o Score mais robusto para o projeto, vamos criar uma nova variável chamada Scores, onde vamos dividir os valores seguindo com base na descrição do Score anteriormente:\n",
    "\n",
    "O score brasileiro é geralmente dividido em faixas:\n",
    "\n",
    "- Baixo (0-300): Alto risco de inadimplência.\n",
    "- Médio (301-700): Risco moderado.\n",
    "- Alto (701-1000): Baixo risco de inadimplência.\n",
    "\n",
    "Então vamos ter uma variável chamada de \"score\" que será dividida com os valores dessa forma e vamos excluir as outras colunas de score para essa nova análise."
   ]
  },
  {
   "cell_type": "code",
   "execution_count": 30,
   "metadata": {},
   "outputs": [],
   "source": [
    "def scores(score):\n",
    "    if score <= 300:\n",
    "        return 'baixo'\n",
    "    elif score >= 301 and score <= 700:\n",
    "        return 'medio'\n",
    "    else:\n",
    "        return 'alto'\n",
    "    \n",
    "X_train['score'] = X_train['score_3'].apply(scores)"
   ]
  },
  {
   "cell_type": "code",
   "execution_count": 31,
   "metadata": {},
   "outputs": [],
   "source": [
    "# exclusão da coluna Score 3\n",
    "exclude_columns = [\"score_3\"]\n",
    "\n",
    "X_train.drop(labels = exclude_columns, axis=1, inplace=True)"
   ]
  },
  {
   "cell_type": "markdown",
   "metadata": {},
   "source": [
    "### Limpeza dos Dados e Pré-Processamento"
   ]
  },
  {
   "cell_type": "code",
   "execution_count": 32,
   "metadata": {},
   "outputs": [
    {
     "data": {
      "text/html": [
       "<div>\n",
       "<style scoped>\n",
       "    .dataframe tbody tr th:only-of-type {\n",
       "        vertical-align: middle;\n",
       "    }\n",
       "\n",
       "    .dataframe tbody tr th {\n",
       "        vertical-align: top;\n",
       "    }\n",
       "\n",
       "    .dataframe thead th {\n",
       "        text-align: right;\n",
       "    }\n",
       "</style>\n",
       "<table border=\"1\" class=\"dataframe\">\n",
       "  <thead>\n",
       "    <tr style=\"text-align: right;\">\n",
       "      <th></th>\n",
       "      <th>25180</th>\n",
       "      <th>12555</th>\n",
       "      <th>29153</th>\n",
       "      <th>23838</th>\n",
       "      <th>35686</th>\n",
       "    </tr>\n",
       "  </thead>\n",
       "  <tbody>\n",
       "    <tr>\n",
       "      <th>risk_rate</th>\n",
       "      <td>0.17</td>\n",
       "      <td>0.23</td>\n",
       "      <td>0.4</td>\n",
       "      <td>0.28</td>\n",
       "      <td>0.22</td>\n",
       "    </tr>\n",
       "    <tr>\n",
       "      <th>last_amount_borrowed</th>\n",
       "      <td>NaN</td>\n",
       "      <td>NaN</td>\n",
       "      <td>NaN</td>\n",
       "      <td>NaN</td>\n",
       "      <td>6029.18</td>\n",
       "    </tr>\n",
       "    <tr>\n",
       "      <th>last_borrowed_in_months</th>\n",
       "      <td>NaN</td>\n",
       "      <td>NaN</td>\n",
       "      <td>NaN</td>\n",
       "      <td>NaN</td>\n",
       "      <td>36.0</td>\n",
       "    </tr>\n",
       "    <tr>\n",
       "      <th>credit_limit</th>\n",
       "      <td>32451.0</td>\n",
       "      <td>NaN</td>\n",
       "      <td>NaN</td>\n",
       "      <td>NaN</td>\n",
       "      <td>NaN</td>\n",
       "    </tr>\n",
       "    <tr>\n",
       "      <th>income</th>\n",
       "      <td>95035.02</td>\n",
       "      <td>86026.89</td>\n",
       "      <td>45042.92</td>\n",
       "      <td>74039.33</td>\n",
       "      <td>55026.98</td>\n",
       "    </tr>\n",
       "    <tr>\n",
       "      <th>ok_since</th>\n",
       "      <td>NaN</td>\n",
       "      <td>NaN</td>\n",
       "      <td>NaN</td>\n",
       "      <td>NaN</td>\n",
       "      <td>NaN</td>\n",
       "    </tr>\n",
       "    <tr>\n",
       "      <th>n_bankruptcies</th>\n",
       "      <td>0.0</td>\n",
       "      <td>0.0</td>\n",
       "      <td>0.0</td>\n",
       "      <td>0.0</td>\n",
       "      <td>0.0</td>\n",
       "    </tr>\n",
       "    <tr>\n",
       "      <th>n_defaulted_loans</th>\n",
       "      <td>0.0</td>\n",
       "      <td>0.0</td>\n",
       "      <td>0.0</td>\n",
       "      <td>0.0</td>\n",
       "      <td>0.0</td>\n",
       "    </tr>\n",
       "    <tr>\n",
       "      <th>n_accounts</th>\n",
       "      <td>7.0</td>\n",
       "      <td>8.0</td>\n",
       "      <td>3.0</td>\n",
       "      <td>7.0</td>\n",
       "      <td>9.0</td>\n",
       "    </tr>\n",
       "    <tr>\n",
       "      <th>n_issues</th>\n",
       "      <td>7.0</td>\n",
       "      <td>NaN</td>\n",
       "      <td>NaN</td>\n",
       "      <td>NaN</td>\n",
       "      <td>NaN</td>\n",
       "    </tr>\n",
       "    <tr>\n",
       "      <th>external_data_provider_credit_checks_last_2_year</th>\n",
       "      <td>NaN</td>\n",
       "      <td>0.0</td>\n",
       "      <td>NaN</td>\n",
       "      <td>0.0</td>\n",
       "      <td>NaN</td>\n",
       "    </tr>\n",
       "    <tr>\n",
       "      <th>external_data_provider_credit_checks_last_month</th>\n",
       "      <td>0</td>\n",
       "      <td>1</td>\n",
       "      <td>2</td>\n",
       "      <td>2</td>\n",
       "      <td>0</td>\n",
       "    </tr>\n",
       "    <tr>\n",
       "      <th>external_data_provider_credit_checks_last_year</th>\n",
       "      <td>0.0</td>\n",
       "      <td>NaN</td>\n",
       "      <td>1.0</td>\n",
       "      <td>1.0</td>\n",
       "      <td>NaN</td>\n",
       "    </tr>\n",
       "    <tr>\n",
       "      <th>reported_income</th>\n",
       "      <td>20125.0</td>\n",
       "      <td>24460.0</td>\n",
       "      <td>144703.0</td>\n",
       "      <td>186114.0</td>\n",
       "      <td>98152.0</td>\n",
       "    </tr>\n",
       "    <tr>\n",
       "      <th>shipping_state</th>\n",
       "      <td>BR-RN</td>\n",
       "      <td>BR-AM</td>\n",
       "      <td>BR-GO</td>\n",
       "      <td>BR-SP</td>\n",
       "      <td>BR-SP</td>\n",
       "    </tr>\n",
       "    <tr>\n",
       "      <th>score</th>\n",
       "      <td>medio</td>\n",
       "      <td>medio</td>\n",
       "      <td>baixo</td>\n",
       "      <td>baixo</td>\n",
       "      <td>baixo</td>\n",
       "    </tr>\n",
       "  </tbody>\n",
       "</table>\n",
       "</div>"
      ],
      "text/plain": [
       "                                                     25180     12555  \\\n",
       "risk_rate                                             0.17      0.23   \n",
       "last_amount_borrowed                                   NaN       NaN   \n",
       "last_borrowed_in_months                                NaN       NaN   \n",
       "credit_limit                                       32451.0       NaN   \n",
       "income                                            95035.02  86026.89   \n",
       "ok_since                                               NaN       NaN   \n",
       "n_bankruptcies                                         0.0       0.0   \n",
       "n_defaulted_loans                                      0.0       0.0   \n",
       "n_accounts                                             7.0       8.0   \n",
       "n_issues                                               7.0       NaN   \n",
       "external_data_provider_credit_checks_last_2_year       NaN       0.0   \n",
       "external_data_provider_credit_checks_last_month          0         1   \n",
       "external_data_provider_credit_checks_last_year         0.0       NaN   \n",
       "reported_income                                    20125.0   24460.0   \n",
       "shipping_state                                       BR-RN     BR-AM   \n",
       "score                                                medio     medio   \n",
       "\n",
       "                                                     29153     23838     35686  \n",
       "risk_rate                                              0.4      0.28      0.22  \n",
       "last_amount_borrowed                                   NaN       NaN   6029.18  \n",
       "last_borrowed_in_months                                NaN       NaN      36.0  \n",
       "credit_limit                                           NaN       NaN       NaN  \n",
       "income                                            45042.92  74039.33  55026.98  \n",
       "ok_since                                               NaN       NaN       NaN  \n",
       "n_bankruptcies                                         0.0       0.0       0.0  \n",
       "n_defaulted_loans                                      0.0       0.0       0.0  \n",
       "n_accounts                                             3.0       7.0       9.0  \n",
       "n_issues                                               NaN       NaN       NaN  \n",
       "external_data_provider_credit_checks_last_2_year       NaN       0.0       NaN  \n",
       "external_data_provider_credit_checks_last_month          2         2         0  \n",
       "external_data_provider_credit_checks_last_year         1.0       1.0       NaN  \n",
       "reported_income                                   144703.0  186114.0   98152.0  \n",
       "shipping_state                                       BR-GO     BR-SP     BR-SP  \n",
       "score                                                baixo     baixo     baixo  "
      ]
     },
     "execution_count": 32,
     "metadata": {},
     "output_type": "execute_result"
    }
   ],
   "source": [
    "X_train.head().T"
   ]
  },
  {
   "cell_type": "markdown",
   "metadata": {},
   "source": [
    "### Visualizar os Valores Ausentes"
   ]
  },
  {
   "cell_type": "code",
   "execution_count": 33,
   "metadata": {},
   "outputs": [
    {
     "data": {
      "text/plain": [
       "risk_rate                                             456\n",
       "last_amount_borrowed                                23949\n",
       "last_borrowed_in_months                             23949\n",
       "credit_limit                                        15221\n",
       "income                                                456\n",
       "ok_since                                            21234\n",
       "n_bankruptcies                                        556\n",
       "n_defaulted_loans                                     464\n",
       "n_accounts                                            456\n",
       "n_issues                                             9209\n",
       "external_data_provider_credit_checks_last_2_year    18086\n",
       "external_data_provider_credit_checks_last_month         0\n",
       "external_data_provider_credit_checks_last_year      12137\n",
       "reported_income                                        62\n",
       "shipping_state                                          0\n",
       "score                                                   0\n",
       "dtype: int64"
      ]
     },
     "execution_count": 33,
     "metadata": {},
     "output_type": "execute_result"
    }
   ],
   "source": [
    "X_train.isna().sum()"
   ]
  },
  {
   "cell_type": "code",
   "execution_count": 34,
   "metadata": {},
   "outputs": [
    {
     "data": {
      "text/plain": [
       "2640"
      ]
     },
     "execution_count": 34,
     "metadata": {},
     "output_type": "execute_result"
    }
   ],
   "source": [
    "y_train.isna().sum()"
   ]
  },
  {
   "cell_type": "markdown",
   "metadata": {},
   "source": [
    "### Separar as Variáveis Numéricas"
   ]
  },
  {
   "cell_type": "code",
   "execution_count": 35,
   "metadata": {},
   "outputs": [
    {
     "name": "stdout",
     "output_type": "stream",
     "text": [
      "Há 14 variáveis numéricas. São elas: ['risk_rate', 'last_amount_borrowed', 'last_borrowed_in_months', 'credit_limit', 'income', 'ok_since', 'n_bankruptcies', 'n_defaulted_loans', 'n_accounts', 'n_issues', 'external_data_provider_credit_checks_last_2_year', 'external_data_provider_credit_checks_last_month', 'external_data_provider_credit_checks_last_year', 'reported_income']\n"
     ]
    }
   ],
   "source": [
    "numerical_features = X_train.select_dtypes('number').columns.to_list()\n",
    "print(f'Há {len(numerical_features)} variáveis numéricas. São elas: {numerical_features}')\n",
    "train_num_columns = X_train.select_dtypes(exclude='object').columns"
   ]
  },
  {
   "cell_type": "markdown",
   "metadata": {},
   "source": [
    "### Separar as Variáveis Categóricas"
   ]
  },
  {
   "cell_type": "code",
   "execution_count": 36,
   "metadata": {},
   "outputs": [
    {
     "name": "stdout",
     "output_type": "stream",
     "text": [
      "Há 2 variáveis categóricas. São elas: ['shipping_state', 'score']\n"
     ]
    }
   ],
   "source": [
    "categorical_features = X_train.select_dtypes('object').columns.tolist()\n",
    "print(f'Há {len(categorical_features)} variáveis categóricas. São elas: {categorical_features}')\n",
    "train_cat_columns = X_train.select_dtypes(include='object').columns"
   ]
  },
  {
   "cell_type": "markdown",
   "metadata": {},
   "source": [
    "### Listar a quantidade de Subcategorias nas variáveis categóricas"
   ]
  },
  {
   "cell_type": "code",
   "execution_count": 37,
   "metadata": {},
   "outputs": [
    {
     "name": "stdout",
     "output_type": "stream",
     "text": [
      "shipping_state\n",
      "Número de Categorias: 25. São elas:\n",
      "['BR-RN' 'BR-AM' 'BR-GO' 'BR-SP' 'BR-TO' 'BR-MS' 'BR-PA' 'BR-ES' 'BR-PE'\n",
      " 'BR-SC' 'BR-AL' 'BR-CE' 'BR-PB' 'BR-DF' 'BR-SE' 'BR-AP' 'BR-MT' 'BR-MA'\n",
      " 'BR-MG' 'BR-PR' 'BR-RO' 'BR-BA' 'BR-AC' 'BR-RR' 'BR-RS']\n",
      "\n",
      "score\n",
      "Número de Categorias: 3. São elas:\n",
      "['medio' 'baixo' 'alto']\n",
      "\n"
     ]
    }
   ],
   "source": [
    "for feature in categorical_features:\n",
    "    print(feature)\n",
    "    print(f\"Número de Categorias: {X_train[feature].nunique()}. São elas:\")\n",
    "    print(X_train[feature].unique())\n",
    "    print()"
   ]
  },
  {
   "cell_type": "markdown",
   "metadata": {},
   "source": [
    "### Pré-Processamento"
   ]
  },
  {
   "cell_type": "code",
   "execution_count": 38,
   "metadata": {},
   "outputs": [],
   "source": [
    "target_encoder_features = ['shipping_state']\n",
    "ordinal_encoder_features = ['score']"
   ]
  },
  {
   "cell_type": "code",
   "execution_count": 39,
   "metadata": {},
   "outputs": [],
   "source": [
    "# # Definindo o pipeline para transformações numéricas\n",
    "# numeric_transformer = Pipeline(\n",
    "#     steps=[\n",
    "#         ('imputer', SimpleImputer(missing_values=np.nan,strategy='median')),\n",
    "#         ('std_scaler', StandardScaler())\n",
    "#     ]\n",
    "# )\n",
    "\n",
    "# # Definindo o pipeline para transformações ordinais\n",
    "# ordinal_pipeline = Pipeline(\n",
    "#     steps=[\n",
    "#         ('imputer', SimpleImputer(strategy='most_frequent')),\n",
    "#         ('ordinal_encoder', OrdinalEncoder()),\n",
    "#         ('std_scaler', StandardScaler())\n",
    "#     ]\n",
    "# )\n",
    "\n",
    "# # Definindo o pipeline para o target encoding\n",
    "# target_pipeline = Pipeline(\n",
    "#     steps=[\n",
    "#         ('target_encoder', TargetEncoder(cols=target_encoder_features)),\n",
    "#         ('std_scaler', StandardScaler())\n",
    "#     ]\n",
    "# )\n",
    "\n",
    "# # Combinando tudo em um pré-processador\n",
    "# preprocessor = ColumnTransformer(\n",
    "#     transformers=[\n",
    "#         ('std_scaler', numeric_transformer, numerical_features),\n",
    "#         ('ordinal', ordinal_pipeline, ordinal_encoder_features),\n",
    "#         ('target', target_pipeline, target_encoder_features)\n",
    "        \n",
    "#     ],\n",
    "#     remainder='passthrough'\n",
    "# )\n",
    "\n",
    "preprocessor = ColumnTransformer(\n",
    "    transformers=[\n",
    "        ('numeric_transformer', Pipeline(steps=[\n",
    "            ('imputer', SimpleImputer(missing_values=np.nan,strategy='median')),\n",
    "            ('scaler', StandardScaler())\n",
    "        ]), numerical_features),\n",
    "\n",
    "        ('ordinal_pipeline', Pipeline(steps=[\n",
    "        ('imputer', SimpleImputer(strategy='most_frequent')),\n",
    "        ('ordinal_encoder', OrdinalEncoder()),\n",
    "        ('std_scaler', StandardScaler())\n",
    "        ]), ordinal_encoder_features),\n",
    "\n",
    "        # ('target_pipeline', Pipeline(steps=[\n",
    "        # ('target_encoder', TargetEncoder(cols=target_encoder_features)),\n",
    "        # ('std_scaler', StandardScaler())\n",
    "        # ]), target_encoder_features),\n",
    "\n",
    "\n",
    "    ],remainder='passthrough'\n",
    ")"
   ]
  },
  {
   "cell_type": "code",
   "execution_count": 40,
   "metadata": {},
   "outputs": [
    {
     "data": {
      "text/plain": [
       "(36000, 16)"
      ]
     },
     "execution_count": 40,
     "metadata": {},
     "output_type": "execute_result"
    }
   ],
   "source": [
    "X_train_prepared = preprocessor.fit_transform(X_train, y_train)\n",
    "X_train_prepared.shape"
   ]
  },
  {
   "cell_type": "code",
   "execution_count": 41,
   "metadata": {},
   "outputs": [
    {
     "data": {
      "text/plain": [
       "array([[-1.2502660089590574, -0.12593559932500079, -0.29804431660898373,\n",
       "        ..., -0.04017105842362287, 0.7579053378638376, 'BR-RN'],\n",
       "       [-0.6578021735167316, -0.12593559932500079, -0.29804431660898373,\n",
       "        ..., -0.0401710584066159, 0.7579053378638376, 'BR-AM'],\n",
       "       [1.0208453602365246, -0.12593559932500079, -0.29804431660898373,\n",
       "        ..., -0.04017105793488159, -1.1712887626168351, 'BR-GO'],\n",
       "       ...,\n",
       "       [-0.46031422836928987, 2.6020886537270584, 3.355205733756499, ...,\n",
       "        -0.04017105791362191, -1.1712887626168351, 'BR-CE'],\n",
       "       [0.13214960707303583, -0.12593559932500079, -0.29804431660898373,\n",
       "        ..., -0.040171058014812355, -1.1712887626168351, 'BR-SC'],\n",
       "       [-0.36157025579556884, -0.12593559932500079, -0.29804431660898373,\n",
       "        ..., -0.0401710582339609, 0.7579053378638376, 'BR-AM']],\n",
       "      dtype=object)"
      ]
     },
     "execution_count": 41,
     "metadata": {},
     "output_type": "execute_result"
    }
   ],
   "source": [
    "X_train_prepared"
   ]
  },
  {
   "cell_type": "code",
   "execution_count": null,
   "metadata": {},
   "outputs": [],
   "source": []
  }
 ],
 "metadata": {
  "kernelspec": {
   "display_name": ".venv",
   "language": "python",
   "name": "python3"
  },
  "language_info": {
   "codemirror_mode": {
    "name": "ipython",
    "version": 3
   },
   "file_extension": ".py",
   "mimetype": "text/x-python",
   "name": "python",
   "nbconvert_exporter": "python",
   "pygments_lexer": "ipython3",
   "version": "3.12.5"
  }
 },
 "nbformat": 4,
 "nbformat_minor": 2
}
