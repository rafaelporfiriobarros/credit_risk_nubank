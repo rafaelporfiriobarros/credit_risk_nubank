{
 "cells": [
  {
   "cell_type": "markdown",
   "metadata": {},
   "source": [
    "# Análise de Risco de Crédito - NuBank"
   ]
  },
  {
   "cell_type": "markdown",
   "metadata": {},
   "source": [
    "Risco de crédito está associado à possibilidade de um cliente não cumprir com as obrigações contratuais, como hipotecas, dívidas de cartão de crédito e outros tipos de empréstimos.\n",
    "\n",
    "Minimizar o risco de inadimplência é uma grande preocupação para instituições financeiras. Por esse motivo, bancos comerciais e de investimento, fundos de capital de risco, empresas de gestão de ativos e seguradoras, para citar alguns, estão cada vez mais contando com a tecnologia para prever quais clientes são mais propensos a não honrar com as suas dívidas.\n",
    "\n",
    "Modelos de Machine Learning têm ajudado essas empresas a melhorar a precisão de suas análises de risco de crédito, fornecendo um método científico para identificar devedores em potencial com antecedência.\n",
    "\n",
    "Neste projeto, construiremos um modelo para prever o risco de inadimplência do cliente para o Nubank, uma das maiores e importantes Fintechs brasileira."
   ]
  },
  {
   "cell_type": "markdown",
   "metadata": {},
   "source": [
    "## Modelagem "
   ]
  },
  {
   "cell_type": "markdown",
   "metadata": {},
   "source": [
    "### Objetivo\n",
    "\n",
    "- Prever o risco de inadimplência de clientes usando modelos de aprendizado de máquina, incluindo Regressão Logística,XGBoost, LightGBM e CatBoost.\n",
    "\n",
    "- Problema: Identificar a possibilidade de clientes não cumprirem obrigações contratuais, como empréstimos e pagamentos."
   ]
  },
  {
   "cell_type": "markdown",
   "metadata": {},
   "source": [
    "### Importação das Bibliotecas"
   ]
  },
  {
   "cell_type": "code",
   "execution_count": 30,
   "metadata": {},
   "outputs": [],
   "source": [
    "# Data manipulation and visualization.\n",
    "import pandas as pd\n",
    "import numpy as np\n",
    "import matplotlib.pyplot as plt\n",
    "import seaborn as sns\n",
    "\n",
    "# Modelling\n",
    "from sklearn.model_selection import train_test_split\n",
    "from sklearn.pipeline import Pipeline\n",
    "from sklearn.compose import ColumnTransformer\n",
    "from sklearn.metrics import r2_score, mean_absolute_error, mean_squared_error\n",
    "from sklearn.preprocessing import OneHotEncoder, OrdinalEncoder, StandardScaler\n",
    "from category_encoders import TargetEncoder\n",
    "from sklearn.impute import SimpleImputer\n",
    "from sklearn.linear_model import LogisticRegression\n",
    "from sklearn.svm import LinearSVC, SVC\n",
    "from sklearn.neighbors import KNeighborsClassifier\n",
    "from sklearn.tree import DecisionTreeClassifier\n",
    "from sklearn.ensemble import RandomForestClassifier\n",
    "from xgboost import XGBClassifier\n",
    "from sklearn.model_selection import cross_val_score, StratifiedKFold\n",
    "from sklearn.metrics import roc_auc_score, classification_report, confusion_matrix, roc_curve, precision_recall_curve\n",
    "import time\n",
    "import statsmodels.api as sm # estimação de modelos\n",
    "import statsmodels.formula.api as smf # estimação do modelo logístico binário\n",
    "\n",
    "\n",
    "import warnings\n",
    "\n",
    "\n",
    "# Filter warnings.\n",
    "import warnings\n",
    "warnings.filterwarnings('ignore')\n",
    "\n",
    "pd.options.display.float_format = '{:20,.2f}'.format"
   ]
  },
  {
   "cell_type": "markdown",
   "metadata": {},
   "source": [
    "# Funções\n"
   ]
  },
  {
   "cell_type": "markdown",
   "metadata": {},
   "source": [
    "## Funcão para detectar Outliers e Remoção"
   ]
  },
  {
   "cell_type": "code",
   "execution_count": 31,
   "metadata": {},
   "outputs": [],
   "source": [
    "def detectar_e_substituir_outliers(df):\n",
    "    \"\"\"\n",
    "    Função que detecta e substitui outliers por NaN com base no método IQR.\n",
    "\n",
    "    \"\"\"\n",
    "    for column in df.select_dtypes(include=[np.number]).columns:  # Process only numeric columns\n",
    "        Q1 = df[column].quantile(0.25)\n",
    "        Q3 = df[column].quantile(0.75)\n",
    "        IQR = Q3 - Q1\n",
    "\n",
    "        # Define bounds for outliers\n",
    "        lower_bound = Q1 - 1.5 * IQR\n",
    "        upper_bound = Q3 + 1.5 * IQR\n",
    "\n",
    "        # Replace outliers with NaN\n",
    "        df[column] = df[column].apply(lambda x: x if lower_bound <= x <= upper_bound else np.nan)\n",
    "\n",
    "    print(\"Os valores discrepantes foram substituídos por NaN.\")\n",
    "    return df"
   ]
  },
  {
   "cell_type": "markdown",
   "metadata": {},
   "source": [
    "### Importação do Dataset"
   ]
  },
  {
   "cell_type": "code",
   "execution_count": 32,
   "metadata": {},
   "outputs": [],
   "source": [
    "df = pd.read_csv('data/acquisition_train.csv')"
   ]
  },
  {
   "cell_type": "markdown",
   "metadata": {},
   "source": [
    "### Visualização dos Dados"
   ]
  },
  {
   "cell_type": "code",
   "execution_count": 33,
   "metadata": {},
   "outputs": [
    {
     "data": {
      "text/html": [
       "<div>\n",
       "<style scoped>\n",
       "    .dataframe tbody tr th:only-of-type {\n",
       "        vertical-align: middle;\n",
       "    }\n",
       "\n",
       "    .dataframe tbody tr th {\n",
       "        vertical-align: top;\n",
       "    }\n",
       "\n",
       "    .dataframe thead th {\n",
       "        text-align: right;\n",
       "    }\n",
       "</style>\n",
       "<table border=\"1\" class=\"dataframe\">\n",
       "  <thead>\n",
       "    <tr style=\"text-align: right;\">\n",
       "      <th></th>\n",
       "      <th>ids</th>\n",
       "      <th>target_default</th>\n",
       "      <th>score_1</th>\n",
       "      <th>score_2</th>\n",
       "      <th>score_3</th>\n",
       "      <th>score_4</th>\n",
       "      <th>score_5</th>\n",
       "      <th>score_6</th>\n",
       "      <th>risk_rate</th>\n",
       "      <th>last_amount_borrowed</th>\n",
       "      <th>...</th>\n",
       "      <th>external_data_provider_fraud_score</th>\n",
       "      <th>lat_lon</th>\n",
       "      <th>marketing_channel</th>\n",
       "      <th>profile_phone_number</th>\n",
       "      <th>reported_income</th>\n",
       "      <th>shipping_state</th>\n",
       "      <th>shipping_zip_code</th>\n",
       "      <th>profile_tags</th>\n",
       "      <th>user_agent</th>\n",
       "      <th>target_fraud</th>\n",
       "    </tr>\n",
       "  </thead>\n",
       "  <tbody>\n",
       "    <tr>\n",
       "      <th>0</th>\n",
       "      <td>343b7e7b-2cf8-e508-b8fd-0a0285af30aa</td>\n",
       "      <td>False</td>\n",
       "      <td>1Rk8w4Ucd5yR3KcqZzLdow==</td>\n",
       "      <td>IOVu8au3ISbo6+zmfnYwMg==</td>\n",
       "      <td>350.00</td>\n",
       "      <td>101.80</td>\n",
       "      <td>0.26</td>\n",
       "      <td>108.43</td>\n",
       "      <td>0.40</td>\n",
       "      <td>25,033.92</td>\n",
       "      <td>...</td>\n",
       "      <td>645</td>\n",
       "      <td>(-29.151545708122246, -51.1386461804385)</td>\n",
       "      <td>Invite-email</td>\n",
       "      <td>514-9840782</td>\n",
       "      <td>57,849.00</td>\n",
       "      <td>BR-MT</td>\n",
       "      <td>17528</td>\n",
       "      <td>{'tags': ['n19', 'n8']}</td>\n",
       "      <td>Mozilla/5.0 (Linux; Android 6.0.1; SGP771 Buil...</td>\n",
       "      <td>NaN</td>\n",
       "    </tr>\n",
       "    <tr>\n",
       "      <th>1</th>\n",
       "      <td>bc2c7502-bbad-0f8c-39c3-94e881967124</td>\n",
       "      <td>False</td>\n",
       "      <td>DGCQep2AE5QRkNCshIAlFQ==</td>\n",
       "      <td>SaamrHMo23l/3TwXOWgVzw==</td>\n",
       "      <td>370.00</td>\n",
       "      <td>97.06</td>\n",
       "      <td>0.94</td>\n",
       "      <td>92.00</td>\n",
       "      <td>0.24</td>\n",
       "      <td>NaN</td>\n",
       "      <td>...</td>\n",
       "      <td>243</td>\n",
       "      <td>(-19.687710705798963, -47.94151536525154)</td>\n",
       "      <td>Radio-commercial</td>\n",
       "      <td>251-3659293</td>\n",
       "      <td>4,902.00</td>\n",
       "      <td>BR-RS</td>\n",
       "      <td>40933</td>\n",
       "      <td>{'tags': ['n6', 'n7', 'nim']}</td>\n",
       "      <td>Mozilla/5.0 (Linux; Android 5.0.2; SAMSUNG SM-...</td>\n",
       "      <td>NaN</td>\n",
       "    </tr>\n",
       "  </tbody>\n",
       "</table>\n",
       "<p>2 rows × 43 columns</p>\n",
       "</div>"
      ],
      "text/plain": [
       "                                    ids target_default  \\\n",
       "0  343b7e7b-2cf8-e508-b8fd-0a0285af30aa          False   \n",
       "1  bc2c7502-bbad-0f8c-39c3-94e881967124          False   \n",
       "\n",
       "                    score_1                   score_2              score_3  \\\n",
       "0  1Rk8w4Ucd5yR3KcqZzLdow==  IOVu8au3ISbo6+zmfnYwMg==               350.00   \n",
       "1  DGCQep2AE5QRkNCshIAlFQ==  SaamrHMo23l/3TwXOWgVzw==               370.00   \n",
       "\n",
       "               score_4              score_5              score_6  \\\n",
       "0               101.80                 0.26               108.43   \n",
       "1                97.06                 0.94                92.00   \n",
       "\n",
       "             risk_rate  last_amount_borrowed  ...  \\\n",
       "0                 0.40             25,033.92  ...   \n",
       "1                 0.24                   NaN  ...   \n",
       "\n",
       "   external_data_provider_fraud_score  \\\n",
       "0                                 645   \n",
       "1                                 243   \n",
       "\n",
       "                                     lat_lon marketing_channel  \\\n",
       "0   (-29.151545708122246, -51.1386461804385)      Invite-email   \n",
       "1  (-19.687710705798963, -47.94151536525154)  Radio-commercial   \n",
       "\n",
       "   profile_phone_number      reported_income shipping_state shipping_zip_code  \\\n",
       "0           514-9840782            57,849.00          BR-MT             17528   \n",
       "1           251-3659293             4,902.00          BR-RS             40933   \n",
       "\n",
       "                    profile_tags  \\\n",
       "0        {'tags': ['n19', 'n8']}   \n",
       "1  {'tags': ['n6', 'n7', 'nim']}   \n",
       "\n",
       "                                          user_agent target_fraud  \n",
       "0  Mozilla/5.0 (Linux; Android 6.0.1; SGP771 Buil...          NaN  \n",
       "1  Mozilla/5.0 (Linux; Android 5.0.2; SAMSUNG SM-...          NaN  \n",
       "\n",
       "[2 rows x 43 columns]"
      ]
     },
     "execution_count": 33,
     "metadata": {},
     "output_type": "execute_result"
    }
   ],
   "source": [
    "df.head(2)"
   ]
  },
  {
   "cell_type": "markdown",
   "metadata": {},
   "source": [
    "### Infos dos Dados"
   ]
  },
  {
   "cell_type": "code",
   "execution_count": 34,
   "metadata": {},
   "outputs": [
    {
     "name": "stdout",
     "output_type": "stream",
     "text": [
      "<class 'pandas.core.frame.DataFrame'>\n",
      "RangeIndex: 45000 entries, 0 to 44999\n",
      "Data columns (total 43 columns):\n",
      " #   Column                                            Non-Null Count  Dtype  \n",
      "---  ------                                            --------------  -----  \n",
      " 0   ids                                               45000 non-null  object \n",
      " 1   target_default                                    41741 non-null  object \n",
      " 2   score_1                                           44438 non-null  object \n",
      " 3   score_2                                           44438 non-null  object \n",
      " 4   score_3                                           44438 non-null  float64\n",
      " 5   score_4                                           45000 non-null  float64\n",
      " 6   score_5                                           45000 non-null  float64\n",
      " 7   score_6                                           45000 non-null  float64\n",
      " 8   risk_rate                                         44438 non-null  float64\n",
      " 9   last_amount_borrowed                              15044 non-null  float64\n",
      " 10  last_borrowed_in_months                           15044 non-null  float64\n",
      " 11  credit_limit                                      31200 non-null  float64\n",
      " 12  reason                                            44434 non-null  object \n",
      " 13  income                                            44438 non-null  float64\n",
      " 14  facebook_profile                                  40542 non-null  object \n",
      " 15  state                                             44438 non-null  object \n",
      " 16  zip                                               44438 non-null  object \n",
      " 17  channel                                           44438 non-null  object \n",
      " 18  job_name                                          41664 non-null  object \n",
      " 19  real_state                                        44438 non-null  object \n",
      " 20  ok_since                                          18455 non-null  float64\n",
      " 21  n_bankruptcies                                    44303 non-null  float64\n",
      " 22  n_defaulted_loans                                 44426 non-null  float64\n",
      " 23  n_accounts                                        44438 non-null  float64\n",
      " 24  n_issues                                          33456 non-null  float64\n",
      " 25  application_time_applied                          45000 non-null  object \n",
      " 26  application_time_in_funnel                        45000 non-null  int64  \n",
      " 27  email                                             45000 non-null  object \n",
      " 28  external_data_provider_credit_checks_last_2_year  22372 non-null  float64\n",
      " 29  external_data_provider_credit_checks_last_month   45000 non-null  int64  \n",
      " 30  external_data_provider_credit_checks_last_year    29876 non-null  float64\n",
      " 31  external_data_provider_email_seen_before          42767 non-null  float64\n",
      " 32  external_data_provider_first_name                 45000 non-null  object \n",
      " 33  external_data_provider_fraud_score                45000 non-null  int64  \n",
      " 34  lat_lon                                           43637 non-null  object \n",
      " 35  marketing_channel                                 41422 non-null  object \n",
      " 36  profile_phone_number                              45000 non-null  object \n",
      " 37  reported_income                                   45000 non-null  float64\n",
      " 38  shipping_state                                    45000 non-null  object \n",
      " 39  shipping_zip_code                                 45000 non-null  int64  \n",
      " 40  profile_tags                                      45000 non-null  object \n",
      " 41  user_agent                                        44278 non-null  object \n",
      " 42  target_fraud                                      1522 non-null   object \n",
      "dtypes: float64(18), int64(4), object(21)\n",
      "memory usage: 14.8+ MB\n"
     ]
    }
   ],
   "source": [
    "df.info()"
   ]
  },
  {
   "cell_type": "markdown",
   "metadata": {},
   "source": [
    "- Temos dados ausentes"
   ]
  },
  {
   "cell_type": "markdown",
   "metadata": {},
   "source": [
    "### Exclusão das Variáveis não significativas"
   ]
  },
  {
   "cell_type": "markdown",
   "metadata": {},
   "source": [
    "- Seguindo como base os processos feitos na Análise Exploratória de Dados - EDA, vamos excluir logo de início as variáveis não relevantes para o projeto, seguido da variável **Shipping State** por não agregar até o momento nenhuma significância para o projeto. Não vejo valor na distribuição dos estados com relação as outras variáveis."
   ]
  },
  {
   "cell_type": "code",
   "execution_count": 35,
   "metadata": {},
   "outputs": [],
   "source": [
    "# cópia do dataframe\n",
    "df2 = df.copy()"
   ]
  },
  {
   "cell_type": "code",
   "execution_count": 36,
   "metadata": {},
   "outputs": [],
   "source": [
    "exclude_columns = [\"ids\", \"score_1\", \"score_2\", \"score_4\", \"score_5\", \"score_6\",\"reason\", \"facebook_profile\", \"state\", \"zip\", \"channel\", \"job_name\", \"real_state\",\n",
    "                    \"email\", \"external_data_provider_first_name\", \"external_data_provider_email_seen_before\",\"lat_lon\", \"marketing_channel\",\n",
    "                    \"application_time_applied\", \"profile_phone_number\", \"application_time_in_funnel\",\"shipping_zip_code\", \"external_data_provider_fraud_score\",\n",
    "                    \"profile_tags\", \"user_agent\", \"shipping_state\",\"target_fraud\"]\n",
    "\n",
    "df2.drop(labels = exclude_columns, axis=1, inplace=True)"
   ]
  },
  {
   "cell_type": "markdown",
   "metadata": {},
   "source": [
    "### Alteração variável Target Default para Num"
   ]
  },
  {
   "cell_type": "code",
   "execution_count": 37,
   "metadata": {},
   "outputs": [],
   "source": [
    "df2['target_default'] = df2['target_default'].map({False: 0, True: 1})"
   ]
  },
  {
   "cell_type": "markdown",
   "metadata": {},
   "source": [
    "### Alteração da Variável credit_limit com valor 0"
   ]
  },
  {
   "cell_type": "markdown",
   "metadata": {},
   "source": [
    "- A variável **credit_limit** possui um valor mínimo de 0.000000, isso não existe em instituições financeiras, é obrigatório liberar um valor X de crédito para o cliente. Portanto, este valor será substituído por NaN."
   ]
  },
  {
   "cell_type": "code",
   "execution_count": 38,
   "metadata": {},
   "outputs": [],
   "source": [
    "df2['credit_limit'] = df2['credit_limit'].apply(lambda x: np.nan if x == 0 else x)"
   ]
  },
  {
   "cell_type": "markdown",
   "metadata": {},
   "source": [
    "### Alteração da Variável reported_income com Valor Inf"
   ]
  },
  {
   "cell_type": "markdown",
   "metadata": {},
   "source": [
    "- A variável **reported_income** possui um valor máximo descrito como inf(infinito), nesse caso, vamos alterar para o tipo NaN."
   ]
  },
  {
   "cell_type": "code",
   "execution_count": 39,
   "metadata": {},
   "outputs": [],
   "source": [
    "df2.replace([np.inf, -np.inf], np.nan, inplace=True)"
   ]
  },
  {
   "cell_type": "markdown",
   "metadata": {},
   "source": [
    "### Feature Engineering"
   ]
  },
  {
   "cell_type": "markdown",
   "metadata": {},
   "source": [
    "Seguindo o que foi feito com as \"Perguntas de Negócio utilizando o Score 3\" na Análise Exploratória no eda.ipynb, que é o Score mais robusto para o projeto, vamos criar uma nova variável chamada Scores, onde vamos dividir os valores seguindo com base na descrição do Score anteriormente:\n",
    "\n",
    "O score brasileiro é geralmente dividido em faixas:\n",
    "\n",
    "- Baixo (0-300): Alto risco de inadimplência.\n",
    "- Médio (301-700): Risco moderado.\n",
    "- Alto (701-1000): Baixo risco de inadimplência.\n",
    "\n",
    "Então vamos ter uma variável chamada de \"score\" que será dividida com os valores dessa forma e vamos excluir as outras colunas de score para essa nova análise."
   ]
  },
  {
   "cell_type": "code",
   "execution_count": 40,
   "metadata": {},
   "outputs": [],
   "source": [
    "def scores(score):\n",
    "    if score <= 300:\n",
    "        return 'baixo'\n",
    "    elif score >= 301 and score <= 700:\n",
    "        return 'medio'\n",
    "    else:\n",
    "        return 'alto'\n",
    "    \n",
    "df2['score'] = df2['score_3'].apply(scores)"
   ]
  },
  {
   "cell_type": "markdown",
   "metadata": {},
   "source": [
    "- Exclusão da variável score_3"
   ]
  },
  {
   "cell_type": "code",
   "execution_count": 41,
   "metadata": {},
   "outputs": [],
   "source": [
    "df2.drop(columns=['score_3'], axis = 1, inplace = True)\t"
   ]
  },
  {
   "cell_type": "markdown",
   "metadata": {},
   "source": [
    "## Modelos Logíticos Binários"
   ]
  },
  {
   "cell_type": "markdown",
   "metadata": {},
   "source": [
    "Respostas binárias são comumente estudadas em muitos campos. Exemplos incluem a presença ou ausência de uma doença específica, morte durante uma cirurgia ou a decisão de um consumidor em comprar um produto. Frequentemente, deseja-se estudar como um conjunto de variáveis preditoras **X** está relacionada a uma variável de resposta dicotômica **Y**. Os preditores podem descrever quantidades como a atribuição de tratamento, dosagem, fatores de risco e tempo de calendário.\n",
    "\n",
    "Por conveniência, definimos a resposta como **Y** **=** **0** ou **1**, com **Y** **=** **1** denotando a ocorrência do evento de interesse. Frequentemente, um resultado dicotômico pode ser estudado calculando certas proporções, por exemplo, a proporção de mortes entre mulheres e a proporção entre homens. No entanto, em muitas situações, há vários descritores, ou um ou mais descritores são contínuos. Sem um modelo estatístico, estudar padrões como a relação entre idade e ocorrência de uma doença, por exemplo, exigiria a criação de grupos etários arbitrários para permitir a estimativa da prevalência da doença em função da idade.\n",
    "\n",
    "Portanto, diferentemente da tradicional técnica de **regressão linear**, que é estimada por meio de métodos de **mínimos quadrados**, em que a variável dependente apresenta-se de forma quantitativa e devem ser obedecidos alguns pressupostos, as técnicas de **regressão logística** são utilizadas quando o fenômeno a ser estudado apresenta-se de forma qualitativa e, portanto, é representado por uma ou mais variáveis **dummy**, dependendo da quantidade de possibilidades de resposta (categorias) dessa variável dependente.\n",
    "\n",
    "Em **Machine Learning**, é uma técnica **supervisionada** utilizada para explicar ou predizer a probabilidade de ocorrência de determinado evento em função de uma ou mais variáveis explicativas, em que a variável dependente é binária, com resultados interpretados em termos de probabilidades, e as variáveis preditoras **X** são métricas ou não métricas."
   ]
  },
  {
   "cell_type": "markdown",
   "metadata": {},
   "source": [
    "### O MODELO DE REGRESSÃO LOGÍSTICA BINÁRIA"
   ]
  },
  {
   "cell_type": "markdown",
   "metadata": {},
   "source": [
    "O modelo de regressão logística binária é uma técnica estatística usada para prever a probabilidade de ocorrência de um evento que tem dois resultados possíveis (binário). Ele é amplamente utilizado em problemas de classificação, onde a variável dependente (resposta) é categórica e assume apenas dois valores, como 0 ou 1, \"Sim\" ou \"Não\", \"Sucesso\" ou \"Fracasso\"."
   ]
  },
  {
   "cell_type": "markdown",
   "metadata": {},
   "source": [
    "### Conceito Básico"
   ]
  },
  {
   "cell_type": "markdown",
   "metadata": {},
   "source": [
    "A regressão logística modela a probabilidade de um evento ocorrer usando uma função logística (também chamada de sigmoide). A função **sigmoide** transforma qualquer valor real em um valor entre 0 e 1, que pode ser interpretado como uma probabilidade."
   ]
  },
  {
   "cell_type": "markdown",
   "metadata": {},
   "source": [
    "### Função Sigmoide"
   ]
  },
  {
   "cell_type": "markdown",
   "metadata": {},
   "source": [
    "A função sigmoide é dada por:\n",
    "\n",
    "$$P(Y = 1 \\mid X) = \\frac{1}{1 + e^{-\\left(\\beta_0 + \\beta_1 X_1 + \\beta_2 X_2 + \\cdots + \\beta_n X_n\\right)}}$$\n",
    "\n",
    "Onde: \n",
    "\n",
    "- $P(Y = 1 \\mid X)$ é a probabilidade de a variável dependente **Y** ser igual a 1, dado o conjunto de variáveis independentes **X**.\n",
    "\n",
    "- $\\beta_0, \\beta_1, \\beta_2, \\dots, \\beta_n$ são os coeficientes do modelo.\n",
    "\n",
    "- $X_1, X_2, \\dots, X_n$ são as variáveis independentes (ou características).\n",
    "\n",
    "- $e$ é a base do logaritmo natural (aproximadamente 2.71828).\n",
    "\n",
    "\n",
    "\n"
   ]
  },
  {
   "cell_type": "markdown",
   "metadata": {},
   "source": [
    "### Função de Ligação (Logit)"
   ]
  },
  {
   "cell_type": "markdown",
   "metadata": {},
   "source": [
    "A regressão logística usa a função de ligação logit para modelar a relação entre as variáveis independentes e a probabilidade de ocorrência do evento. O logit é o logaritmo natural da razão de chances (odds ratio):\n",
    "\n",
    "$$\\text{logit}(P(Y = 1 \\mid X)) = \\ln\\left(\\frac{1 - P(Y = 1 \\mid X)}{P(Y = 1 \\mid X)}\\right) = \\beta_0 + \\beta_1 X_1 + \\beta_2 X_2 + \\cdots + \\beta_n X_n$$\n"
   ]
  },
  {
   "cell_type": "markdown",
   "metadata": {},
   "source": [
    "### Estimação dos Coeficientes"
   ]
  },
  {
   "cell_type": "markdown",
   "metadata": {},
   "source": [
    "Os coeficientes $\\beta_0, \\beta_1, \\beta_2, \\dots, \\beta_n$ são estimados usando o método de máxima verossimilhança (Maximum Likelihood Estimation - MLE). O objetivo é encontrar os valores dos coeficientes que maximizam a função de verossimilhança, que é a probabilidade de observar os dados dados os parâmetros do modelo."
   ]
  },
  {
   "cell_type": "markdown",
   "metadata": {},
   "source": [
    "### Interpretação dos Coeficientes"
   ]
  },
  {
   "cell_type": "markdown",
   "metadata": {},
   "source": [
    "- Coeficiente $\\beta_0$: É o intercepto do modelo. Representa o logaritmo da razão de chances quando todas as variáveis independentes são iguais a zero.\n",
    "\n",
    "- Coeficientes $\\beta_1, \\beta_2, \\dots, \\beta_n$: Representam a mudança no logaritmo da razão de chances para um aumento unitário na variável independente correspondente, mantendo todas as outras variáveis constantes."
   ]
  },
  {
   "cell_type": "markdown",
   "metadata": {},
   "source": [
    "### Odds"
   ]
  },
  {
   "cell_type": "markdown",
   "metadata": {},
   "source": [
    "Na regressão logística, o conceito de chance (ou odds, em inglês) é fundamental para entender como o modelo estima a probabilidade de um evento ocorrer. Vamos explorar o que significa \"chance\" e como ela se relaciona com a regressão logística."
   ]
  },
  {
   "cell_type": "markdown",
   "metadata": {},
   "source": [
    "1. O que é Chance?"
   ]
  },
  {
   "cell_type": "markdown",
   "metadata": {},
   "source": [
    "A chance é uma medida que compara a probabilidade de um evento ocorrer com a probabilidade de ele não ocorrer. Em outras palavras, é a razão entre a probabilidade de sucesso $\\left(P(Y = 1)\\right)$ e a probabilidade de fracasso $\\left(P(Y = 0)\\right)$\n",
    ".\n",
    "\n",
    "A fórmula da chance é: \n",
    "\n",
    "$$\\text{Chance} = \\frac{P(Y = 1)}{1 - P(Y = 1)}$$\n",
    "\n",
    "Onde: \n",
    "\n",
    "- ${P(Y = 1)}$ é a probabilidade de o evento ocorrer.\n",
    "- ${1 - P(Y = 1)}$ é a probabilidade de o evento não ocorrer.\n",
    "\n"
   ]
  },
  {
   "cell_type": "markdown",
   "metadata": {},
   "source": [
    "2. Exemplo de Chance"
   ]
  },
  {
   "cell_type": "markdown",
   "metadata": {},
   "source": [
    "Suponha que a probabilidade de um evento ocorrer seja $(P(Y = 1) = 0.75$. Então:\n",
    "\n",
    "- A probabilidade de o evento não ocorrer é $1 - 0,75 = 0,25$.\n",
    "- A chance de o evento ocorrer é: $$\\text{Chance} = \\frac{0,75}{0,25} = 3$$\n",
    "\n",
    "Isso significa que a chance de o evento ocorrer é **3 para 1** (ou seja, o evento é 3 vezes mais provável de ocorrer do que não ocorrer)."
   ]
  },
  {
   "cell_type": "markdown",
   "metadata": {},
   "source": [
    "3. Chance e Regressão Logística"
   ]
  },
  {
   "cell_type": "markdown",
   "metadata": {},
   "source": [
    "Na regressão logística, o modelo estima a chance de um evento ocorrer com base nas variáveis independentes $(X)$. A relação entre as variáveis independentes e a chance é modelada pela função logística.\n",
    "\n",
    "A regressão logística usa o **logaritmo da chance** (também chamado de logit) como variável dependente. A fórmula do logit é:\n",
    "\n",
    "$$\\text{logit}(P(Y = 1)) = \\ln\\left(\\frac{P(Y = 1)}{1 - P(Y = 1)}\\right) = \\beta_0 + \\beta_1 X_1 + \\beta_2 X_2 + \\cdots + \\beta_n X_n$$\n",
    "\n",
    "Onde:\n",
    "\n",
    "- $\\beta_0, \\beta_1, \\beta_2, \\dots, \\beta_n$ são os coeficientes do modelo.\n",
    "- $X_1, X_2, \\dots, X_n$ são as variáveis independentes (ou características).\n"
   ]
  },
  {
   "cell_type": "code",
   "execution_count": 42,
   "metadata": {},
   "outputs": [
    {
     "data": {
      "text/html": [
       "<div>\n",
       "<style scoped>\n",
       "    .dataframe tbody tr th:only-of-type {\n",
       "        vertical-align: middle;\n",
       "    }\n",
       "\n",
       "    .dataframe tbody tr th {\n",
       "        vertical-align: top;\n",
       "    }\n",
       "\n",
       "    .dataframe thead th {\n",
       "        text-align: right;\n",
       "    }\n",
       "</style>\n",
       "<table border=\"1\" class=\"dataframe\">\n",
       "  <thead>\n",
       "    <tr style=\"text-align: right;\">\n",
       "      <th></th>\n",
       "      <th>target_default</th>\n",
       "      <th>risk_rate</th>\n",
       "      <th>last_amount_borrowed</th>\n",
       "      <th>last_borrowed_in_months</th>\n",
       "      <th>credit_limit</th>\n",
       "      <th>income</th>\n",
       "      <th>ok_since</th>\n",
       "      <th>n_bankruptcies</th>\n",
       "      <th>n_defaulted_loans</th>\n",
       "      <th>n_accounts</th>\n",
       "      <th>n_issues</th>\n",
       "      <th>external_data_provider_credit_checks_last_2_year</th>\n",
       "      <th>external_data_provider_credit_checks_last_month</th>\n",
       "      <th>external_data_provider_credit_checks_last_year</th>\n",
       "      <th>reported_income</th>\n",
       "      <th>score</th>\n",
       "    </tr>\n",
       "  </thead>\n",
       "  <tbody>\n",
       "    <tr>\n",
       "      <th>0</th>\n",
       "      <td>0.00</td>\n",
       "      <td>0.40</td>\n",
       "      <td>25,033.92</td>\n",
       "      <td>36.00</td>\n",
       "      <td>NaN</td>\n",
       "      <td>65,014.12</td>\n",
       "      <td>NaN</td>\n",
       "      <td>0.00</td>\n",
       "      <td>0.00</td>\n",
       "      <td>18.00</td>\n",
       "      <td>18.00</td>\n",
       "      <td>NaN</td>\n",
       "      <td>2</td>\n",
       "      <td>0.00</td>\n",
       "      <td>57,849.00</td>\n",
       "      <td>medio</td>\n",
       "    </tr>\n",
       "    <tr>\n",
       "      <th>1</th>\n",
       "      <td>0.00</td>\n",
       "      <td>0.24</td>\n",
       "      <td>NaN</td>\n",
       "      <td>NaN</td>\n",
       "      <td>39,726.00</td>\n",
       "      <td>100,018.91</td>\n",
       "      <td>50.00</td>\n",
       "      <td>0.00</td>\n",
       "      <td>0.00</td>\n",
       "      <td>14.00</td>\n",
       "      <td>14.00</td>\n",
       "      <td>0.00</td>\n",
       "      <td>1</td>\n",
       "      <td>0.00</td>\n",
       "      <td>4,902.00</td>\n",
       "      <td>medio</td>\n",
       "    </tr>\n",
       "    <tr>\n",
       "      <th>2</th>\n",
       "      <td>1.00</td>\n",
       "      <td>0.29</td>\n",
       "      <td>7,207.92</td>\n",
       "      <td>36.00</td>\n",
       "      <td>NaN</td>\n",
       "      <td>65,023.65</td>\n",
       "      <td>NaN</td>\n",
       "      <td>0.00</td>\n",
       "      <td>0.00</td>\n",
       "      <td>10.00</td>\n",
       "      <td>NaN</td>\n",
       "      <td>NaN</td>\n",
       "      <td>2</td>\n",
       "      <td>NaN</td>\n",
       "      <td>163,679.00</td>\n",
       "      <td>medio</td>\n",
       "    </tr>\n",
       "    <tr>\n",
       "      <th>3</th>\n",
       "      <td>0.00</td>\n",
       "      <td>0.32</td>\n",
       "      <td>NaN</td>\n",
       "      <td>NaN</td>\n",
       "      <td>54,591.00</td>\n",
       "      <td>68,830.01</td>\n",
       "      <td>NaN</td>\n",
       "      <td>1.00</td>\n",
       "      <td>0.00</td>\n",
       "      <td>19.00</td>\n",
       "      <td>19.00</td>\n",
       "      <td>NaN</td>\n",
       "      <td>3</td>\n",
       "      <td>NaN</td>\n",
       "      <td>1,086.00</td>\n",
       "      <td>medio</td>\n",
       "    </tr>\n",
       "    <tr>\n",
       "      <th>4</th>\n",
       "      <td>0.00</td>\n",
       "      <td>0.18</td>\n",
       "      <td>NaN</td>\n",
       "      <td>NaN</td>\n",
       "      <td>NaN</td>\n",
       "      <td>60,011.29</td>\n",
       "      <td>NaN</td>\n",
       "      <td>0.00</td>\n",
       "      <td>0.00</td>\n",
       "      <td>11.00</td>\n",
       "      <td>NaN</td>\n",
       "      <td>0.00</td>\n",
       "      <td>2</td>\n",
       "      <td>1.00</td>\n",
       "      <td>198,618.00</td>\n",
       "      <td>medio</td>\n",
       "    </tr>\n",
       "  </tbody>\n",
       "</table>\n",
       "</div>"
      ],
      "text/plain": [
       "        target_default            risk_rate  last_amount_borrowed  \\\n",
       "0                 0.00                 0.40             25,033.92   \n",
       "1                 0.00                 0.24                   NaN   \n",
       "2                 1.00                 0.29              7,207.92   \n",
       "3                 0.00                 0.32                   NaN   \n",
       "4                 0.00                 0.18                   NaN   \n",
       "\n",
       "   last_borrowed_in_months         credit_limit               income  \\\n",
       "0                    36.00                  NaN            65,014.12   \n",
       "1                      NaN            39,726.00           100,018.91   \n",
       "2                    36.00                  NaN            65,023.65   \n",
       "3                      NaN            54,591.00            68,830.01   \n",
       "4                      NaN                  NaN            60,011.29   \n",
       "\n",
       "              ok_since       n_bankruptcies    n_defaulted_loans  \\\n",
       "0                  NaN                 0.00                 0.00   \n",
       "1                50.00                 0.00                 0.00   \n",
       "2                  NaN                 0.00                 0.00   \n",
       "3                  NaN                 1.00                 0.00   \n",
       "4                  NaN                 0.00                 0.00   \n",
       "\n",
       "            n_accounts             n_issues  \\\n",
       "0                18.00                18.00   \n",
       "1                14.00                14.00   \n",
       "2                10.00                  NaN   \n",
       "3                19.00                19.00   \n",
       "4                11.00                  NaN   \n",
       "\n",
       "   external_data_provider_credit_checks_last_2_year  \\\n",
       "0                                               NaN   \n",
       "1                                              0.00   \n",
       "2                                               NaN   \n",
       "3                                               NaN   \n",
       "4                                              0.00   \n",
       "\n",
       "   external_data_provider_credit_checks_last_month  \\\n",
       "0                                                2   \n",
       "1                                                1   \n",
       "2                                                2   \n",
       "3                                                3   \n",
       "4                                                2   \n",
       "\n",
       "   external_data_provider_credit_checks_last_year      reported_income  score  \n",
       "0                                            0.00            57,849.00  medio  \n",
       "1                                            0.00             4,902.00  medio  \n",
       "2                                             NaN           163,679.00  medio  \n",
       "3                                             NaN             1,086.00  medio  \n",
       "4                                            1.00           198,618.00  medio  "
      ]
     },
     "execution_count": 42,
     "metadata": {},
     "output_type": "execute_result"
    }
   ],
   "source": [
    "df2.head()"
   ]
  },
  {
   "cell_type": "markdown",
   "metadata": {},
   "source": [
    "### Divisão dos dados em treino e teste"
   ]
  },
  {
   "cell_type": "markdown",
   "metadata": {},
   "source": [
    "- Antes de iniciar as transformações e pré-processamentos dos dados, é necessário dividir o dataset em treino e teste, mas porque?\n",
    "    - Porque precisamos evitar o \"Data Leakage\". Data Leakage ocorre quando informações do conjunto de dados de teste ou validação vazam para o conjunto de treinamento durante o pré-processamento ou modelagem, ou quando informaçõpes do target vazam para as features. Nessas situações, o que vai acontecer é que você vai ver um modelo muito bom, mas isso será ilusório, pois o seu modelo \"roubou\" para ter o resultado bom.\n",
    "\n",
    "- Referências sobre Data Leakage: \n",
    "    - https://www.linkedin.com/company/universidade-dos-dados/posts/?feedView=all\n",
    "    - https://www.casadocodigo.com.br/products/livro-escd\n",
    "    - https://estatsite.com.br/2020/12/12/data-leakage-o-erro-que-ate-os-grandes-cometem/\n"
   ]
  },
  {
   "cell_type": "code",
   "execution_count": 43,
   "metadata": {},
   "outputs": [],
   "source": [
    "# Dividindo os dados primeiro\n",
    "\n",
    "X = df2.drop(columns=['target_default'], axis = 1)\t\n",
    "y = df2['target_default'].copy()                                                                                                                                                                                                                                                                                    "
   ]
  },
  {
   "cell_type": "markdown",
   "metadata": {},
   "source": [
    "### Aplicando o One Hot Encoding antes do Train Test Split"
   ]
  },
  {
   "cell_type": "code",
   "execution_count": 44,
   "metadata": {},
   "outputs": [],
   "source": [
    "# Aplicando o One Hot Encoding\n",
    "\n",
    "encoder = OneHotEncoder(drop='first', sparse_output=False) \n",
    "\n",
    "X_encoded = encoder.fit_transform(X[['score']])\n",
    "\n",
    "encoded_columns = encoder.get_feature_names_out(['score'])\n",
    "X_encoded_df = pd.DataFrame(X_encoded, columns=encoded_columns, index=X.index)\n",
    "\n",
    "X = pd.concat([X.drop(columns=['score']), X_encoded_df], axis=1)"
   ]
  },
  {
   "cell_type": "markdown",
   "metadata": {},
   "source": [
    "### Remoção dos Outliers"
   ]
  },
  {
   "cell_type": "markdown",
   "metadata": {},
   "source": [
    "- Aqui vamos remover os Outliers para um primeiro CRISP-DM, então o dataset não terá os valores discrepantes para criação dos modelos. "
   ]
  },
  {
   "cell_type": "code",
   "execution_count": 45,
   "metadata": {},
   "outputs": [
    {
     "name": "stdout",
     "output_type": "stream",
     "text": [
      "Os valores discrepantes foram substituídos por NaN.\n"
     ]
    }
   ],
   "source": [
    "X = detectar_e_substituir_outliers(X)"
   ]
  },
  {
   "cell_type": "markdown",
   "metadata": {},
   "source": [
    "### Boxplot Dataframe Atualizado"
   ]
  },
  {
   "cell_type": "code",
   "execution_count": 46,
   "metadata": {},
   "outputs": [
    {
     "data": {
      "image/png": "[encoded data removed]",
      "text/plain": [
       "<Figure size 3000x3000 with 16 Axes>"
      ]
     },
     "metadata": {},
     "output_type": "display_data"
    }
   ],
   "source": [
    "plt.style.use(\"fivethirtyeight\")\n",
    "plt.figure(figsize=(30,30))\n",
    "for index,column in enumerate(X):\n",
    "    plt.subplot(7,4,index+1)\n",
    "    sns.boxplot(data=X,x=column, color=\"#830BD1\")\n",
    "    \n",
    "plt.tight_layout(pad = 1.0)"
   ]
  },
  {
   "cell_type": "markdown",
   "metadata": {},
   "source": [
    "### Train Test Split"
   ]
  },
  {
   "cell_type": "code",
   "execution_count": 47,
   "metadata": {},
   "outputs": [],
   "source": [
    "X_train, X_test, y_train, y_test = train_test_split(X, y, test_size=0.2,random_state=42)"
   ]
  },
  {
   "cell_type": "markdown",
   "metadata": {},
   "source": [
    "### Pré-Processamento"
   ]
  },
  {
   "cell_type": "markdown",
   "metadata": {},
   "source": [
    "- Preencher valores ausentes em X_train e X_test"
   ]
  },
  {
   "cell_type": "code",
   "execution_count": 48,
   "metadata": {},
   "outputs": [],
   "source": [
    "# Preencher valores ausentes em X_train e X_test com a média de X_train\n",
    "X_train.fillna(X_train.mean(), inplace=True)\n",
    "X_test.fillna(X_train.mean(), inplace=True)  # Usar a média de X_train para X_test"
   ]
  },
  {
   "cell_type": "markdown",
   "metadata": {},
   "source": [
    "- Preencher valores ausentes em y_train e y_test"
   ]
  },
  {
   "cell_type": "code",
   "execution_count": 49,
   "metadata": {},
   "outputs": [],
   "source": [
    "# Preencher valores ausentes em y_train e y_test com a mediana\n",
    "y_train.fillna(y_train.median(), inplace=True)\n",
    "y_test.fillna(y_train.median(), inplace=True)  # Usar a mediana de y_train para y_test\n"
   ]
  },
  {
   "cell_type": "markdown",
   "metadata": {},
   "source": [
    "- Divisão das variáveis numéricas e categóricas"
   ]
  },
  {
   "cell_type": "code",
   "execution_count": 50,
   "metadata": {},
   "outputs": [],
   "source": [
    "numerical_features = X_train.select_dtypes('number').columns.to_list()\n",
    "categorical_features = X_train.select_dtypes('object').columns.to_list()"
   ]
  },
  {
   "cell_type": "markdown",
   "metadata": {},
   "source": [
    "- Número de linhas e colunas de cada treino e teste criados"
   ]
  },
  {
   "cell_type": "code",
   "execution_count": 51,
   "metadata": {},
   "outputs": [
    {
     "name": "stdout",
     "output_type": "stream",
     "text": [
      "Train shape: (36000, 16).\n",
      "Train target shape: (36000,).\n",
      "Test predictor shape: (9000, 16).\n",
      "Test target shape: (9000,).\n"
     ]
    }
   ],
   "source": [
    "print(f'Train shape: {X_train.shape}.')\n",
    "print(f'Train target shape: {y_train.shape}.')\n",
    "print(f'Test predictor shape: {X_test.shape}.')\n",
    "print(f'Test target shape: {y_test.shape}.')"
   ]
  },
  {
   "cell_type": "markdown",
   "metadata": {},
   "source": [
    "### Estimação do Modelo Logístico Binário pela função \"smf.glm\""
   ]
  },
  {
   "cell_type": "markdown",
   "metadata": {},
   "source": [
    "A função **smf.glm** faz parte da biblioteca **statsmodels** em Python, que é amplamente utilizada para modelagem estatística. smf.glm é usada para ajustar **modelos lineares generalizados** (GLM, do inglês Generalized Linear Models).\n",
    "\n",
    "O que são Modelos Lineares Generalizados (GLM)?\n",
    "\n",
    "Os GLMs são uma extensão dos modelos lineares tradicionais que permitem modelar relações entre variáveis dependentes e independentes, mesmo quando a variável dependente não segue uma distribuição normal. Eles são úteis para situações em que:\n",
    "\n",
    "- A variável dependente é binária (por exemplo, sucesso/falha).\n",
    "\n",
    "- A variável dependente é contagem (por exemplo, número de eventos).\n",
    "\n",
    "- A variável dependente segue outras distribuições, como Poisson, Binomial, Gamma, etc.\n",
    "\n",
    "Quando usar smf.glm?\n",
    "\n",
    "- Quando você precisa de flexibilidade para modelar diferentes tipos de variáveis dependentes.\n",
    "\n",
    "- Quando os pressupostos de um modelo linear tradicional (como normalidade dos resíduos) não são atendidos.\n",
    "\n",
    "- Para problemas de classificação, regressão de contagem, ou outros casos em que a variável dependente não é contínua.\n",
    "\n",
    "Portanto o smf.glm é uma ferramenta poderosa para modelagem estatística em Python, especialmente quando se lida com dados que não seguem uma distribuição normal."
   ]
  },
  {
   "cell_type": "markdown",
   "metadata": {},
   "source": [
    "Na célula a seguir, foi feita uma concatenação de **X_train** e **y_train** para uma nova variável para que seja possível fazer a estimação."
   ]
  },
  {
   "cell_type": "code",
   "execution_count": 52,
   "metadata": {},
   "outputs": [
    {
     "data": {
      "text/html": [
       "<div>\n",
       "<style scoped>\n",
       "    .dataframe tbody tr th:only-of-type {\n",
       "        vertical-align: middle;\n",
       "    }\n",
       "\n",
       "    .dataframe tbody tr th {\n",
       "        vertical-align: top;\n",
       "    }\n",
       "\n",
       "    .dataframe thead th {\n",
       "        text-align: right;\n",
       "    }\n",
       "</style>\n",
       "<table border=\"1\" class=\"dataframe\">\n",
       "  <thead>\n",
       "    <tr style=\"text-align: right;\">\n",
       "      <th></th>\n",
       "      <th>risk_rate</th>\n",
       "      <th>last_amount_borrowed</th>\n",
       "      <th>last_borrowed_in_months</th>\n",
       "      <th>credit_limit</th>\n",
       "      <th>income</th>\n",
       "      <th>ok_since</th>\n",
       "      <th>n_bankruptcies</th>\n",
       "      <th>n_defaulted_loans</th>\n",
       "      <th>n_accounts</th>\n",
       "      <th>n_issues</th>\n",
       "      <th>external_data_provider_credit_checks_last_2_year</th>\n",
       "      <th>external_data_provider_credit_checks_last_month</th>\n",
       "      <th>external_data_provider_credit_checks_last_year</th>\n",
       "      <th>reported_income</th>\n",
       "      <th>score_baixo</th>\n",
       "      <th>score_medio</th>\n",
       "      <th>target_default</th>\n",
       "    </tr>\n",
       "  </thead>\n",
       "  <tbody>\n",
       "    <tr>\n",
       "      <th>0</th>\n",
       "      <td>0.17</td>\n",
       "      <td>13,817.36</td>\n",
       "      <td>36.00</td>\n",
       "      <td>32,451.00</td>\n",
       "      <td>95,035.02</td>\n",
       "      <td>34.96</td>\n",
       "      <td>0.00</td>\n",
       "      <td>0.00</td>\n",
       "      <td>7.00</td>\n",
       "      <td>7.00</td>\n",
       "      <td>0.00</td>\n",
       "      <td>0</td>\n",
       "      <td>0.00</td>\n",
       "      <td>20,125.00</td>\n",
       "      <td>0.00</td>\n",
       "      <td>1.00</td>\n",
       "      <td>0.00</td>\n",
       "    </tr>\n",
       "    <tr>\n",
       "      <th>1</th>\n",
       "      <td>0.23</td>\n",
       "      <td>13,817.36</td>\n",
       "      <td>36.00</td>\n",
       "      <td>35,147.08</td>\n",
       "      <td>86,026.89</td>\n",
       "      <td>34.96</td>\n",
       "      <td>0.00</td>\n",
       "      <td>0.00</td>\n",
       "      <td>8.00</td>\n",
       "      <td>10.85</td>\n",
       "      <td>0.00</td>\n",
       "      <td>1</td>\n",
       "      <td>0.50</td>\n",
       "      <td>24,460.00</td>\n",
       "      <td>0.00</td>\n",
       "      <td>1.00</td>\n",
       "      <td>0.00</td>\n",
       "    </tr>\n",
       "    <tr>\n",
       "      <th>2</th>\n",
       "      <td>0.40</td>\n",
       "      <td>13,817.36</td>\n",
       "      <td>36.00</td>\n",
       "      <td>35,147.08</td>\n",
       "      <td>45,042.92</td>\n",
       "      <td>34.96</td>\n",
       "      <td>0.00</td>\n",
       "      <td>0.00</td>\n",
       "      <td>3.00</td>\n",
       "      <td>10.85</td>\n",
       "      <td>0.00</td>\n",
       "      <td>2</td>\n",
       "      <td>1.00</td>\n",
       "      <td>144,703.00</td>\n",
       "      <td>1.00</td>\n",
       "      <td>0.00</td>\n",
       "      <td>0.00</td>\n",
       "    </tr>\n",
       "    <tr>\n",
       "      <th>3</th>\n",
       "      <td>0.28</td>\n",
       "      <td>13,817.36</td>\n",
       "      <td>36.00</td>\n",
       "      <td>35,147.08</td>\n",
       "      <td>74,039.33</td>\n",
       "      <td>34.96</td>\n",
       "      <td>0.00</td>\n",
       "      <td>0.00</td>\n",
       "      <td>7.00</td>\n",
       "      <td>10.85</td>\n",
       "      <td>0.00</td>\n",
       "      <td>2</td>\n",
       "      <td>1.00</td>\n",
       "      <td>186,114.00</td>\n",
       "      <td>1.00</td>\n",
       "      <td>0.00</td>\n",
       "      <td>0.00</td>\n",
       "    </tr>\n",
       "    <tr>\n",
       "      <th>4</th>\n",
       "      <td>0.22</td>\n",
       "      <td>6,029.18</td>\n",
       "      <td>36.00</td>\n",
       "      <td>35,147.08</td>\n",
       "      <td>55,026.98</td>\n",
       "      <td>34.96</td>\n",
       "      <td>0.00</td>\n",
       "      <td>0.00</td>\n",
       "      <td>9.00</td>\n",
       "      <td>10.85</td>\n",
       "      <td>0.00</td>\n",
       "      <td>0</td>\n",
       "      <td>0.50</td>\n",
       "      <td>98,152.00</td>\n",
       "      <td>1.00</td>\n",
       "      <td>0.00</td>\n",
       "      <td>0.00</td>\n",
       "    </tr>\n",
       "  </tbody>\n",
       "</table>\n",
       "</div>"
      ],
      "text/plain": [
       "             risk_rate  last_amount_borrowed  last_borrowed_in_months  \\\n",
       "0                 0.17             13,817.36                    36.00   \n",
       "1                 0.23             13,817.36                    36.00   \n",
       "2                 0.40             13,817.36                    36.00   \n",
       "3                 0.28             13,817.36                    36.00   \n",
       "4                 0.22              6,029.18                    36.00   \n",
       "\n",
       "          credit_limit               income             ok_since  \\\n",
       "0            32,451.00            95,035.02                34.96   \n",
       "1            35,147.08            86,026.89                34.96   \n",
       "2            35,147.08            45,042.92                34.96   \n",
       "3            35,147.08            74,039.33                34.96   \n",
       "4            35,147.08            55,026.98                34.96   \n",
       "\n",
       "        n_bankruptcies    n_defaulted_loans           n_accounts  \\\n",
       "0                 0.00                 0.00                 7.00   \n",
       "1                 0.00                 0.00                 8.00   \n",
       "2                 0.00                 0.00                 3.00   \n",
       "3                 0.00                 0.00                 7.00   \n",
       "4                 0.00                 0.00                 9.00   \n",
       "\n",
       "              n_issues  external_data_provider_credit_checks_last_2_year  \\\n",
       "0                 7.00                                              0.00   \n",
       "1                10.85                                              0.00   \n",
       "2                10.85                                              0.00   \n",
       "3                10.85                                              0.00   \n",
       "4                10.85                                              0.00   \n",
       "\n",
       "   external_data_provider_credit_checks_last_month  \\\n",
       "0                                                0   \n",
       "1                                                1   \n",
       "2                                                2   \n",
       "3                                                2   \n",
       "4                                                0   \n",
       "\n",
       "   external_data_provider_credit_checks_last_year      reported_income  \\\n",
       "0                                            0.00            20,125.00   \n",
       "1                                            0.50            24,460.00   \n",
       "2                                            1.00           144,703.00   \n",
       "3                                            1.00           186,114.00   \n",
       "4                                            0.50            98,152.00   \n",
       "\n",
       "           score_baixo          score_medio       target_default  \n",
       "0                 0.00                 1.00                 0.00  \n",
       "1                 0.00                 1.00                 0.00  \n",
       "2                 1.00                 0.00                 0.00  \n",
       "3                 1.00                 0.00                 0.00  \n",
       "4                 1.00                 0.00                 0.00  "
      ]
     },
     "execution_count": 52,
     "metadata": {},
     "output_type": "execute_result"
    }
   ],
   "source": [
    "train_smf_glm = pd.concat([X_train, y_train], axis=1)\n",
    "train_smf_glm.reset_index(drop=True, inplace=True)\n",
    "train_smf_glm.head()"
   ]
  },
  {
   "cell_type": "markdown",
   "metadata": {},
   "source": [
    "- Estimação do Modelo Logístico Binário "
   ]
  },
  {
   "cell_type": "code",
   "execution_count": 53,
   "metadata": {},
   "outputs": [],
   "source": [
    "model_train_smf_glm = smf.glm(\n",
    "    formula='target_default ~ risk_rate + last_amount_borrowed + last_borrowed_in_months + \\\n",
    "             credit_limit + income + ok_since + n_bankruptcies + n_defaulted_loans + n_accounts + \\\n",
    "             n_issues + external_data_provider_credit_checks_last_2_year + external_data_provider_credit_checks_last_month + \\\n",
    "             external_data_provider_credit_checks_last_year + reported_income + score_baixo + score_medio',\n",
    "    data=train_smf_glm,\n",
    "    family=sm.families.Binomial()\n",
    ").fit()"
   ]
  },
  {
   "cell_type": "code",
   "execution_count": 54,
   "metadata": {},
   "outputs": [
    {
     "name": "stdout",
     "output_type": "stream",
     "text": [
      "                 Generalized Linear Model Regression Results                  \n",
      "==============================================================================\n",
      "Dep. Variable:         target_default   No. Observations:                36000\n",
      "Model:                            GLM   Df Residuals:                    35987\n",
      "Model Family:                Binomial   Df Model:                           12\n",
      "Link Function:                  Logit   Scale:                          1.0000\n",
      "Method:                          IRLS   Log-Likelihood:                -14904.\n",
      "Date:                Wed, 29 Jan 2025   Deviance:                       29809.\n",
      "Time:                        01:31:42   Pearson chi2:                 3.58e+04\n",
      "No. Iterations:                     7   Pseudo R-squ. (CS):            0.01525\n",
      "Covariance Type:            nonrobust                                         \n",
      "====================================================================================================================\n",
      "                                                       coef    std err          z      P>|z|      [0.025      0.975]\n",
      "--------------------------------------------------------------------------------------------------------------------\n",
      "Intercept                                           -0.0034      0.000    -14.287      0.000      -0.004      -0.003\n",
      "risk_rate                                            2.1566      0.153     14.141      0.000       1.858       2.456\n",
      "last_amount_borrowed                              2.308e-05   3.19e-06      7.225      0.000    1.68e-05    2.93e-05\n",
      "last_borrowed_in_months                             -0.1218      0.009    -14.287      0.000      -0.139      -0.105\n",
      "credit_limit                                      -3.02e-06   9.42e-07     -3.206      0.001   -4.87e-06   -1.17e-06\n",
      "income                                           -7.483e-06    6.3e-07    -11.881      0.000   -8.72e-06   -6.25e-06\n",
      "ok_since                                            -0.0009      0.001     -0.803      0.422      -0.003       0.001\n",
      "n_bankruptcies                                    1.259e-15   1.35e-16      9.335      0.000    9.95e-16    1.52e-15\n",
      "n_defaulted_loans                                -3.626e-17   9.47e-18     -3.829      0.000   -5.48e-17   -1.77e-17\n",
      "n_accounts                                          -0.0027      0.007     -0.403      0.687      -0.016       0.010\n",
      "n_issues                                             0.0215      0.007      2.920      0.003       0.007       0.036\n",
      "external_data_provider_credit_checks_last_2_year  3.409e-15   3.94e-16      8.661      0.000    2.64e-15    4.18e-15\n",
      "external_data_provider_credit_checks_last_month      0.0194      0.013      1.448      0.148      -0.007       0.046\n",
      "external_data_provider_credit_checks_last_year       0.0518      0.037      1.416      0.157      -0.020       0.123\n",
      "reported_income                                  -9.801e-08    2.6e-07     -0.377      0.706   -6.08e-07    4.12e-07\n",
      "score_baixo                                          1.9584      0.293      6.680      0.000       1.384       2.533\n",
      "score_medio                                          2.0971      0.293      7.168      0.000       1.524       2.671\n",
      "====================================================================================================================\n"
     ]
    }
   ],
   "source": [
    "print(model_train_smf_glm.summary())"
   ]
  },
  {
   "cell_type": "markdown",
   "metadata": {},
   "source": [
    "### Pipeline"
   ]
  },
  {
   "cell_type": "markdown",
   "metadata": {},
   "source": [
    "Implementamos aqui no Pipeline o StandardScaler().\n",
    "\n",
    "O StandardScaler() é uma ferramenta do scikit-learn, usada para padronizar as características (features) de um conjunto de dados. A padronização é um processo comum em pré-processamento de dados, especialmente em algoritmos que são sensíveis à escala das features, como SVM, regressão linear, e redes neurais.\n",
    "\n",
    "O que o StandardScaler() faz?\n",
    "\n",
    "Ele transforma os dados de forma que a distribuição resultante tenha:\n",
    "\n",
    "- Média zero: A média dos valores de cada feature é ajustada para 0.\n",
    "\n",
    "- Variância unitária: A variância dos valores de cada feature é ajustada para 1.\n",
    "\n",
    "Isso é feito subtraindo a média dos valores e dividindo pelo desvio padrão. Matematicamente, para cada valor \n",
    "$x$ de uma feature:\n",
    "\n",
    "$$ z = \\frac{x - \\mu}{\\sigma} $$\n",
    "\n",
    "Onde:\n",
    "\n",
    "$μ$ é a média da feature.\n",
    "\n",
    "$σ$ é o desvio padrão da feature.\n",
    "\n",
    "Quando usar o StandardScaler()?\n",
    "\n",
    "- Quando os algoritmos de machine learning que você está usando são sensíveis à escala dos dados.\n",
    "\n",
    "- Quando as features têm unidades diferentes (por exemplo, metros e quilogramas).\n",
    "\n",
    "- Quando você deseja que todas as features contribuam igualmente para o modelo, evitando que features com valores maiores dominem o processo de aprendizado.\n"
   ]
  },
  {
   "cell_type": "code",
   "execution_count": 55,
   "metadata": {},
   "outputs": [],
   "source": [
    "numerical_pipeline = Pipeline(\n",
    "    steps=[\n",
    "        ('std_scaler', StandardScaler())\n",
    "    ]\n",
    ")\n",
    "\n",
    "preprocessor = ColumnTransformer(\n",
    "    transformers=[\n",
    "        ('std_scaler', numerical_pipeline, numerical_features)\n",
    "    ], remainder=\"passthrough\"\n",
    ")"
   ]
  },
  {
   "cell_type": "code",
   "execution_count": 56,
   "metadata": {},
   "outputs": [],
   "source": [
    "X_train_prepared = preprocessor.fit_transform(X_train, y_train)"
   ]
  },
  {
   "cell_type": "markdown",
   "metadata": {},
   "source": [
    "### Função de avaliação para fornecer todas as métricas após o treinamento do modelo"
   ]
  },
  {
   "cell_type": "code",
   "execution_count": 57,
   "metadata": {},
   "outputs": [],
   "source": [
    "def evaluate_model(true, predicted):\n",
    "    mae = mean_absolute_error(true, predicted)\n",
    "    mse = mean_squared_error(true, predicted)\n",
    "    rmse = np.sqrt(mean_squared_error(true, predicted))\n",
    "    r2_square = r2_score(true, predicted)\n",
    "    return mae, rmse, r2_square"
   ]
  },
  {
   "cell_type": "code",
   "execution_count": 58,
   "metadata": {},
   "outputs": [
    {
     "name": "stdout",
     "output_type": "stream",
     "text": [
      "LogisticRegression() results: \n",
      "--------------------------------------------------\n",
      "Training score: 0.5\n",
      "Average validation score: 0.5944431985973047\n",
      "Standard deviation: 0.005961697262976688\n",
      "Training time: 0.02621 seconds\n",
      "\n",
      "XGBClassifier(base_score=None, booster=None, callbacks=None,\n",
      "              colsample_bylevel=None, colsample_bynode=None,\n",
      "              colsample_bytree=None, device=None, early_stopping_rounds=None,\n",
      "              enable_categorical=False, eval_metric=None, feature_types=None,\n",
      "              gamma=None, grow_policy=None, importance_type=None,\n",
      "              interaction_constraints=None, learning_rate=None, max_bin=None,\n",
      "              max_cat_threshold=None, max_cat_to_onehot=None,\n",
      "              max_delta_step=None, max_depth=None, max_leaves=None,\n",
      "              min_child_weight=None, missing=nan, monotone_constraints=None,\n",
      "              multi_strategy=None, n_estimators=None, n_jobs=None,\n",
      "              num_parallel_tree=None, random_state=None, ...) results: \n",
      "--------------------------------------------------\n",
      "Training score: 0.5539246775608085\n",
      "Average validation score: 0.5658906807876859\n",
      "Standard deviation: 0.0059616741822477014\n",
      "Training time: 0.14389 seconds\n",
      "\n"
     ]
    }
   ],
   "source": [
    "models = {\n",
    "    'Logistic Regression': LogisticRegression(),\n",
    "    'XGBoost': XGBClassifier()\n",
    "}\n",
    "model_list = []\n",
    "r2_list =[]\n",
    "\n",
    "models_val_scores = dict()\n",
    "models_train_scores = dict()\n",
    "\n",
    "n_folds = 5\n",
    "stratified_kfold = StratifiedKFold(n_splits=n_folds, shuffle=True, random_state=42)\n",
    "\n",
    "for i in range(len(list(models))):\n",
    "    model = list(models.values())[i]\n",
    "\n",
    "    start_time = time.time()\n",
    "    \n",
    "    model.fit(X_train_prepared, y_train) \n",
    "\n",
    "    end_time = time.time()\n",
    "    training_time = end_time - start_time\n",
    "\n",
    "\n",
    "    y_train_pred = model.predict(X_train_prepared)\n",
    "    y_test_pred = model.predict(X_test)\n",
    "    \n",
    "    y_train_pred = model.predict(X_train_prepared)\n",
    "    train_score = roc_auc_score(y_train, y_train_pred)\n",
    "\n",
    "    val_scores = cross_val_score(model, X_train_prepared, y_train, scoring='roc_auc', cv=stratified_kfold)\n",
    "    avg_val_score = val_scores.mean()\n",
    "    val_score_std = val_scores.std()\n",
    "\n",
    "    models_val_scores[model] = avg_val_score\n",
    "    models_train_scores[model] = train_score\n",
    "\n",
    "    model_list.append(list(models.keys())[i])\n",
    "\n",
    "    print(f'{model} results: ')\n",
    "    print('-'*50)\n",
    "    print(f'Training score: {train_score}')\n",
    "    print(f'Average validation score: {avg_val_score}')\n",
    "    print(f'Standard deviation: {val_score_std}')\n",
    "    print(f'Training time: {round(training_time, 5)} seconds')\n",
    "    print()\n"
   ]
  },
  {
   "cell_type": "code",
   "execution_count": null,
   "metadata": {},
   "outputs": [],
   "source": []
  }
 ],
 "metadata": {
  "kernelspec": {
   "display_name": ".venv",
   "language": "python",
   "name": "python3"
  },
  "language_info": {
   "codemirror_mode": {
    "name": "ipython",
    "version": 3
   },
   "file_extension": ".py",
   "mimetype": "text/x-python",
   "name": "python",
   "nbconvert_exporter": "python",
   "pygments_lexer": "ipython3",
   "version": "3.12.5"
  }
 },
 "nbformat": 4,
 "nbformat_minor": 2
}
